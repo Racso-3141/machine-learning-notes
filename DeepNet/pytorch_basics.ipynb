{
 "cells": [
  {
   "cell_type": "markdown",
   "id": "structured-aaron",
   "metadata": {},
   "source": [
    "covers various pytorch basics; intended for interactive use.\n",
    "--matus\n"
   ]
  },
  {
   "cell_type": "markdown",
   "id": "eastern-visitor",
   "metadata": {},
   "source": [
    "# tensor operations"
   ]
  },
  {
   "cell_type": "code",
   "execution_count": 1,
   "id": "active-personal",
   "metadata": {},
   "outputs": [
    {
     "data": {
      "text/plain": [
       "<torch._C.Generator at 0x7fd738374ef0>"
      ]
     },
     "execution_count": 1,
     "metadata": {},
     "output_type": "execute_result"
    }
   ],
   "source": [
    "import torch\n",
    "# torch has its own PRNG seeds.\n",
    "# setting it here so notebook is deterministic.\n",
    "torch.manual_seed(0)"
   ]
  },
  {
   "cell_type": "code",
   "execution_count": 2,
   "id": "decimal-surgeon",
   "metadata": {},
   "outputs": [
    {
     "data": {
      "text/plain": [
       "tensor([0, 1, 2, 3, 4, 5, 6, 7])"
      ]
     },
     "execution_count": 2,
     "metadata": {},
     "output_type": "execute_result"
    }
   ],
   "source": [
    "# create a non-inclusive range..\n",
    "torch.arange(8)"
   ]
  },
  {
   "cell_type": "code",
   "execution_count": 3,
   "id": "radio-prison",
   "metadata": {},
   "outputs": [
    {
     "data": {
      "text/plain": [
       "tensor([0, 1, 2, 3, 4, 5, 6, 7])"
      ]
     },
     "execution_count": 3,
     "metadata": {},
     "output_type": "execute_result"
    }
   ],
   "source": [
    "# ..just like a regular python non-inclusive range\n",
    "torch.tensor(range(8))"
   ]
  },
  {
   "cell_type": "code",
   "execution_count": 4,
   "id": "lightweight-reservation",
   "metadata": {},
   "outputs": [
    {
     "data": {
      "text/plain": [
       "tensor([0.0000, 0.2500, 0.5000, 0.7500, 1.0000])"
      ]
     },
     "execution_count": 4,
     "metadata": {},
     "output_type": "execute_result"
    }
   ],
   "source": [
    "# a similar routine, subdividing an interval equally\n",
    "torch.linspace(0, 1, 5)"
   ]
  },
  {
   "cell_type": "code",
   "execution_count": 5,
   "id": "regulation-cattle",
   "metadata": {},
   "outputs": [
    {
     "name": "stdout",
     "output_type": "stream",
     "text": [
      "tensor([0.0000, 0.0625, 0.2500, 0.5625, 1.0000])\n",
      "tensor([0.0000, 0.0625, 0.2500, 0.5625, 1.0000])\n",
      "tensor([True, True, True, True, True])\n",
      "tensor([   -inf, -0.3863,  0.3069,  0.7123,  1.0000])\n"
     ]
    }
   ],
   "source": [
    "# standard arithmetic operations act coordinate-wise\n",
    "xs = torch.linspace(0, 1, 5)\n",
    "print(xs ** 2) # coordinate-wise squaring\n",
    "print(xs * xs) # coordinate-wise multiplication\n",
    "print((xs ** 2 - xs * xs) < 1e-16) # compare the above,\n",
    "print((2.7182818 * xs).log()) # coordinate-wise multiplication and ln"
   ]
  },
  {
   "cell_type": "code",
   "execution_count": 6,
   "id": "proof-notification",
   "metadata": {},
   "outputs": [
    {
     "name": "stdout",
     "output_type": "stream",
     "text": [
      "torch.float32 torch.int64 torch.float32 torch.int64 torch.bool\n"
     ]
    },
    {
     "name": "stderr",
     "output_type": "stream",
     "text": [
      "/opt/miniconda3/envs/ml/lib/python3.9/site-packages/torch/_tensor.py:575: UserWarning: floor_divide is deprecated, and will be removed in a future version of pytorch. It currently rounds toward 0 (like the 'trunc' function NOT 'floor'). This results in incorrect rounding for negative values.\n",
      "To keep the current behavior, use torch.div(a, b, rounding_mode='trunc'), or for actual floor division, use torch.div(a, b, rounding_mode='floor'). (Triggered internally at  /Users/distiller/project/conda/conda-bld/pytorch_1631631181957/work/aten/src/ATen/native/BinaryOps.cpp:467.)\n",
      "  return torch.floor_divide(self, other)\n"
     ]
    }
   ],
   "source": [
    "# pytorch tensors aren't just floating point\n",
    "print(\n",
    "    torch.linspace(0,1,5).dtype,\n",
    "    torch.arange(5).dtype,\n",
    "    (torch.arange(5) / 10).dtype,\n",
    "    (torch.arange(5) // 10).dtype,\n",
    "    (torch.arange(5) == 0).dtype,\n",
    ")"
   ]
  },
  {
   "cell_type": "code",
   "execution_count": 7,
   "id": "rolled-berkeley",
   "metadata": {},
   "outputs": [
    {
     "name": "stdout",
     "output_type": "stream",
     "text": [
      "tensor([ 0,  1,  4,  9, 16])\n",
      "tensor([ 0.,  1.,  4.,  9., 16.])\n",
      "tensor([0., 2., 4., 6., 8.])\n",
      "tensor([1, 1, 2, 3, 4])\n"
     ]
    }
   ],
   "source": [
    "# arithmetic operations generally convert between types\n",
    "print(torch.arange(5) * torch.arange(5))\n",
    "print(torch.arange(5) * (torch.arange(5) / 1))\n",
    "print(torch.arange(5) + (torch.arange(5) / 1))\n",
    "print(torch.arange(5) + (torch.arange(5) == 0))"
   ]
  },
  {
   "cell_type": "code",
   "execution_count": 7,
   "id": "french-protocol",
   "metadata": {},
   "outputs": [
    {
     "name": "stdout",
     "output_type": "stream",
     "text": [
      "tensor([ 1.0000,  2.7183,  7.3891, 20.0855, 54.5982])\n",
      "tensor([ 1.0000,  2.7183,  7.3891, 20.0855, 54.5982])\n"
     ]
    }
   ],
   "source": [
    "# Not all types support all operations\n",
    "try:\n",
    "    #following does manual type conversion\n",
    "    print(torch.arange(5).type(torch.float32).exp())\n",
    "    print(torch.arange(5).exp())\n",
    "except RuntimeError as E:\n",
    "    print(f\"Got exception: '{E}'\")"
   ]
  },
  {
   "cell_type": "code",
   "execution_count": 8,
   "id": "associate-jurisdiction",
   "metadata": {},
   "outputs": [
    {
     "name": "stdout",
     "output_type": "stream",
     "text": [
      "tensor([ 0,  1,  2,  3,  4,  5,  6,  7,  8,  9, 10, 11])\n",
      "tensor([[ 0,  1,  2,  3],\n",
      "        [ 4,  5,  6,  7],\n",
      "        [ 8,  9, 10, 11]])\n",
      "tensor([[ 0,  1,  2,  3,  4,  5],\n",
      "        [ 6,  7,  8,  9, 10, 11]])\n"
     ]
    }
   ],
   "source": [
    "# Here are some basic operations on matrix shapes\n",
    "ns = torch.arange(12)\n",
    "print(ns)\n",
    "print(ns.reshape(3,4))\n",
    "# .view() is similar to .reshape() but reuses storage;\n",
    "# we'll revisit it later.\n",
    "print(ns.view(2,6))"
   ]
  },
  {
   "cell_type": "code",
   "execution_count": 9,
   "id": "absolute-europe",
   "metadata": {},
   "outputs": [
    {
     "name": "stdout",
     "output_type": "stream",
     "text": [
      "tensor([[[ 0,  1,  2],\n",
      "         [ 3,  4,  5]],\n",
      "\n",
      "        [[ 6,  7,  8],\n",
      "         [ 9, 10, 11]]])\n",
      "torch.Size([2, 2, 3])\n"
     ]
    }
   ],
   "source": [
    "# We can also reshape into 3 axes\n",
    "print(ns.reshape(2,2,3))\n",
    "# .reshape() and .view() also understand \"-1\" which means\n",
    "# \"choose the appropriate size so that this works out\".\n",
    "print(ns.reshape(-1,2,3).shape)"
   ]
  },
  {
   "cell_type": "code",
   "execution_count": 10,
   "id": "received-genetics",
   "metadata": {},
   "outputs": [
    {
     "name": "stdout",
     "output_type": "stream",
     "text": [
      "tensor(2.7183) torch.Size([]) tensor(1.0000) tensor(0.4108)\n",
      "tensor(2.7183) 2.7182817459106445\n",
      "2.7182818\n",
      "0.0\n",
      "Got exception: 'only one element tensors can be converted to Python scalars'\n"
     ]
    }
   ],
   "source": [
    "# torch also has \"0 axis\" (or \"0 order\") tensors/\"arrays\".\n",
    "# these are convenient because they still support .exp(), etc.\n",
    "e = torch.tensor(2.7182818, dtype = torch.float32)\n",
    "print(e, e.shape, e.log(), e.sin())\n",
    "# method .item() extracts a python number\n",
    "print(e, e.item())\n",
    "# lol:\n",
    "print(torch.tensor(2.7182818, dtype = torch.float64).item())\n",
    "try:\n",
    "    # .item() only works on single-element tensors\n",
    "    print(torch.zeros(1,1,1,1).item())\n",
    "    print(torch.zeros(2).item())\n",
    "except ValueError as E:\n",
    "    print(f\"Got exception: '{E}'\")"
   ]
  },
  {
   "cell_type": "code",
   "execution_count": 11,
   "id": "arbitrary-custody",
   "metadata": {},
   "outputs": [
    {
     "name": "stdout",
     "output_type": "stream",
     "text": [
      "tensor([[ 0,  2,  4],\n",
      "        [ 6,  8, 10]])\n",
      "Got exception: 'The size of tensor a (3) must match the size of tensor b (2) at non-singleton dimension 1'\n"
     ]
    }
   ],
   "source": [
    "# back to larger tensors,\n",
    "# _some_ (but not all) operations complain about size mismatch.\n",
    "try:\n",
    "    vs = torch.arange(6).reshape(2,3)\n",
    "    print(vs + vs)\n",
    "    print(vs + vs.T)\n",
    "except RuntimeError as E:\n",
    "    print(f\"Got exception: '{E}'\")"
   ]
  },
  {
   "cell_type": "code",
   "execution_count": 13,
   "id": "czech-geology",
   "metadata": {},
   "outputs": [
    {
     "name": "stdout",
     "output_type": "stream",
     "text": [
      "tensor([[0, 1, 2, 3],\n",
      "        [1, 2, 3, 4],\n",
      "        [2, 3, 4, 5],\n",
      "        [3, 4, 5, 6]])\n",
      "tensor([[[0, 1, 2, 3],\n",
      "         [1, 2, 3, 4],\n",
      "         [2, 3, 4, 5],\n",
      "         [3, 4, 5, 6]],\n",
      "\n",
      "        [[1, 2, 3, 4],\n",
      "         [2, 3, 4, 5],\n",
      "         [3, 4, 5, 6],\n",
      "         [4, 5, 6, 7]],\n",
      "\n",
      "        [[2, 3, 4, 5],\n",
      "         [3, 4, 5, 6],\n",
      "         [4, 5, 6, 7],\n",
      "         [5, 6, 7, 8]],\n",
      "\n",
      "        [[3, 4, 5, 6],\n",
      "         [4, 5, 6, 7],\n",
      "         [5, 6, 7, 8],\n",
      "         [6, 7, 8, 9]]])\n"
     ]
    }
   ],
   "source": [
    "# but some operations _do_ succeed with mismatched shapes!\n",
    "# whenever a dimension is 1, it applies along axis\n",
    "vs = torch.arange(4)\n",
    "print(vs.reshape(1, -1) + vs.reshape(-1, 1))\n",
    "print(vs.reshape(1, -1, 1) + vs.reshape(-1, 1, 1) + vs.reshape(1, 1, -1))"
   ]
  },
  {
   "cell_type": "code",
   "execution_count": 14,
   "id": "historic-teacher",
   "metadata": {},
   "outputs": [
    {
     "data": {
      "text/plain": [
       "tensor([[0., 0., 0., 0.],\n",
       "        [1., 1., 1., 1.],\n",
       "        [2., 2., 2., 2.],\n",
       "        [3., 3., 3., 3.]])"
      ]
     },
     "execution_count": 14,
     "metadata": {},
     "output_type": "execute_result"
    }
   ],
   "source": [
    "# here's a simpler instance of the same behavior:\n",
    "torch.zeros(4, 4) + torch.arange(4).reshape(-1, 1)"
   ]
  },
  {
   "cell_type": "code",
   "execution_count": 14,
   "id": "chronic-october",
   "metadata": {},
   "outputs": [
    {
     "name": "stdout",
     "output_type": "stream",
     "text": [
      "tensor([1.5687, 2.2517, 1.7698])\n",
      "tensor([1.0000, 1.0000, 1.0000])\n"
     ]
    }
   ],
   "source": [
    "# This can be very convenient:\n",
    "# here we normalize the rows of a matrix:\n",
    "X = torch.randn(3,2)\n",
    "print(X.norm(dim = 1))\n",
    "# A few things going on here, I recommend trying this one\n",
    "# yourself and studying each piece.\n",
    "X /= X.norm(dim = 1, keepdim = True)\n",
    "print(X.norm(dim = 1))"
   ]
  },
  {
   "cell_type": "code",
   "execution_count": 15,
   "id": "acting-cloud",
   "metadata": {},
   "outputs": [
    {
     "name": "stdout",
     "output_type": "stream",
     "text": [
      "tensor([[ 0,  1,  2,  3,  4,  5],\n",
      "        [ 6,  7,  8,  9, 10, 11]])\n",
      "tensor([0, 1, 2, 3, 4, 5])\n",
      "tensor([0, 6])\n",
      "tensor([[[ 0,  1,  2],\n",
      "         [ 3,  4,  5]],\n",
      "\n",
      "        [[ 6,  7,  8],\n",
      "         [ 9, 10, 11]]])\n",
      "tensor([0, 1, 2])\n",
      "tensor([[0, 1, 2],\n",
      "        [3, 4, 5]])\n",
      "tensor([[0, 3],\n",
      "        [6, 9]])\n"
     ]
    }
   ],
   "source": [
    "# slicing makes it easy to access submatrices/subtensors\n",
    "ns = torch.arange(12).reshape(2,6)\n",
    "print(ns)\n",
    "print(ns[0, :]) # first row\n",
    "print(ns[:, 0]) # first column\n",
    "ms = ns.reshape(2,2,3)\n",
    "print(ms)\n",
    "print(ms[0,0,:])\n",
    "print(ms[0, ...]) # dots mean \"all remaining axes/dimensions\"\n",
    "print(ms[..., 0])"
   ]
  },
  {
   "cell_type": "code",
   "execution_count": 16,
   "id": "altered-entertainment",
   "metadata": {},
   "outputs": [
    {
     "name": "stdout",
     "output_type": "stream",
     "text": [
      "tensor([[ 0,  2,  4],\n",
      "        [ 6,  8, 10]])\n",
      "tensor([[ 0,  2,  4],\n",
      "        [ 6,  8, 10]])\n",
      "tensor([[0, 1],\n",
      "        [6, 7]])\n",
      "Got exception: 'tensors used as indices must be long, byte or bool tensors'\n"
     ]
    }
   ],
   "source": [
    "# Slicing can also take integer lists as input\n",
    "print(ns[:, [0, 2, 4]])\n",
    "# Also boolean masks\n",
    "print(ns[:, [ True, False, True, False, True, False]])\n",
    "try:\n",
    "    # you can use pytorch integer arrays as well\n",
    "    print(ns[:, torch.arange(2)])\n",
    "    # but not float arrays\n",
    "    print(ns[:, torch.arange(2) / 1])\n",
    "except IndexError as E:\n",
    "    print(f\"Got exception: '{E}'\")"
   ]
  },
  {
   "cell_type": "code",
   "execution_count": 17,
   "id": "bronze-spokesman",
   "metadata": {},
   "outputs": [
    {
     "name": "stdout",
     "output_type": "stream",
     "text": [
      "tensor(3.7304)\n",
      "tensor(14.9216)\n",
      "tensor(11.3672)\n"
     ]
    }
   ],
   "source": [
    "# many operations have in-place versions.\n",
    "# superficially this is good for efficiency reasons.\n",
    "# more importantly, pytorch does some internal book-keeping\n",
    "# with autodifferentiation which is lost if you do not do\n",
    "# in-place operations for variables you wish to compute\n",
    "# gradients with respect to.\n",
    "# (This will be clarified later.)\n",
    "# For now, here are some example in-place operations\n",
    "v = torch.randn(5,4)\n",
    "print(v.norm())\n",
    "v += v # in-place arithmetic operations\n",
    "v *= 2\n",
    "print(v.norm())\n",
    "v.clamp_(0, float('inf')) # zero out negative values, in-place\n",
    "print(v.norm())"
   ]
  },
  {
   "cell_type": "code",
   "execution_count": 18,
   "id": "parliamentary-czech",
   "metadata": {},
   "outputs": [
    {
     "name": "stdout",
     "output_type": "stream",
     "text": [
      "cpu cpu\n",
      "no exception: no gpu in use\n"
     ]
    }
   ],
   "source": [
    "# this step only matters if you have a gpu.\n",
    "# this line of code is in my pytorch programs, it means\n",
    "# \"variable 'device' is first gpu if available, else cpu\".\n",
    "device = torch.device(\"cpu\" if not torch.cuda.is_available()\n",
    "                      else \"cuda:0\")\n",
    "# that didn't put anything on gpu; we manually move things there\n",
    "ns = torch.arange(4)\n",
    "ns2 = ns.to(device)\n",
    "print(ns.device, ns2.device)\n",
    "\n",
    "try:\n",
    "    # python disallows operations mixing cpu and gpu;\n",
    "    # this is good, since moving data between them is expensive.\n",
    "    ns + ns2\n",
    "    print(\"no exception: no gpu in use\")\n",
    "except Exception as E:\n",
    "    print(f\"pytorch error: {E}\")"
   ]
  },
  {
   "cell_type": "markdown",
   "id": "quick-photographer",
   "metadata": {},
   "source": [
    "# matplotlib plotting"
   ]
  },
  {
   "cell_type": "code",
   "execution_count": 21,
   "id": "missing-strengthening",
   "metadata": {},
   "outputs": [],
   "source": [
    "import matplotlib.pyplot as plt"
   ]
  },
  {
   "cell_type": "code",
   "execution_count": 22,
   "id": "organized-boating",
   "metadata": {},
   "outputs": [
    {
     "data": {
      "text/plain": [
       "<matplotlib.legend.Legend at 0x7fd738889160>"
      ]
     },
     "execution_count": 22,
     "metadata": {},
     "output_type": "execute_result"
    },
    {
     "data": {
      "image/png": "[encoded data removed]",
      "text/plain": [
       "<Figure size 432x288 with 1 Axes>"
      ]
     },
     "metadata": {
      "needs_background": "light"
     },
     "output_type": "display_data"
    }
   ],
   "source": [
    "# plt.plot() lets you display many curves.\n",
    "# it has many parameters; in jupyter and ipythong, you can execute\n",
    "# \"plt.plot?\" to see some of them.\n",
    "# note: gpu data must be moved to cpu before being passed to matplotlib\n",
    "xs = torch.linspace(0, 2, 128)\n",
    "plt.plot(xs, xs, marker = 's', markevery = 5,\n",
    "         label = \"identity\")\n",
    "plt.plot(xs, xs ** 2, marker = 'D', markevery = 7,\n",
    "         label = 'squared')\n",
    "plt.plot(xs, xs * xs, marker = '^', markevery = 9,\n",
    "         label = 'squared again')\n",
    "plt.plot(xs, (2 * xs).sin(), marker = 'd', markevery = 11,\n",
    "         label = 'sin')\n",
    "plt.legend()"
   ]
  },
  {
   "cell_type": "code",
   "execution_count": 23,
   "id": "inside-shoot",
   "metadata": {},
   "outputs": [
    {
     "data": {
      "text/plain": [
       "<matplotlib.legend.Legend at 0x7fd78925f8e0>"
      ]
     },
     "execution_count": 23,
     "metadata": {},
     "output_type": "execute_result"
    },
    {
     "data": {
      "image/png": "[encoded data removed]",
      "text/plain": [
       "<Figure size 432x288 with 1 Axes>"
      ]
     },
     "metadata": {
      "needs_background": "light"
     },
     "output_type": "display_data"
    }
   ],
   "source": [
    "# We can put scatterplots and curve plots in the same figure.\n",
    "# if invoking this from a python script, you'd need to do \n",
    "# plt.clf()\n",
    "# to clear the figure after the previous one\n",
    "# (and also plt.savefig() or plt.show() to display).\n",
    "X = torch.randn(100, 2) # create some random data\n",
    "u = torch.randn(2) # sample a random \"correct\" linear predictor\n",
    "# pick a norm for u that has easy visualization:\n",
    "u *= X.norm(dim = 1).max() / u.norm()\n",
    "y = X @ u # label data according to the \"planted\" predictor\n",
    "# scatterplot of data, y given by color:\n",
    "plt.scatter(\n",
    "    X[:, 0],\n",
    "    X[:, 1],\n",
    "    # color according to y:\n",
    "    c = (y - y.min()) / (y.max() - y.min()),\n",
    "    cmap = \"copper\",\n",
    ")\n",
    "# note that these plots are the weight vectors, not decision boundary\n",
    "plt.plot([0, u[0]], [0, u[1]], lw = 10, label = \"true solution\")\n",
    "ols = X.pinverse() @ y\n",
    "plt.plot([0, ols[0]], [0, ols[1]], lw = 4, label = \"ols\")\n",
    "plt.legend()"
   ]
  },
  {
   "cell_type": "code",
   "execution_count": 24,
   "id": "known-edmonton",
   "metadata": {},
   "outputs": [
    {
     "data": {
      "image/png": "[encoded data removed]",
      "text/plain": [
       "<Figure size 432x288 with 1 Axes>"
      ]
     },
     "metadata": {
      "needs_background": "light"
     },
     "output_type": "display_data"
    }
   ],
   "source": [
    "# matplotlib has many features; here's a cute one to restyle a plot:\n",
    "with plt.style.context(\"bmh\"):\n",
    "    plt.scatter(\n",
    "        X[:, 0],\n",
    "        X[:, 1],\n",
    "        # color according to y:\n",
    "        c = (y - y.min()) / (y.max() - y.min()),\n",
    "        cmap = \"copper\",\n",
    "    )"
   ]
  },
  {
   "cell_type": "markdown",
   "id": "jewish-canada",
   "metadata": {},
   "source": [
    "# autodifferentiation"
   ]
  },
  {
   "cell_type": "code",
   "execution_count": 25,
   "id": "worldwide-chart",
   "metadata": {},
   "outputs": [
    {
     "name": "stdout",
     "output_type": "stream",
     "text": [
      "torch.Size([100, 2]) torch.Size([2]) torch.Size([100])\n"
     ]
    }
   ],
   "source": [
    "# let's go back to the scatterplot from before:\n",
    "print(X.shape, u.shape, y.shape)\n",
    "# we'll find another with \"manual\" gradient descent\n",
    "v = torch.zeros(2)\n",
    "# another with automatic gradient computation\n",
    "w = torch.zeros(2, requires_grad = True)\n",
    "# another with automatic gradient computation\n",
    "# but also using torch.optim\n",
    "z = torch.zeros(2, requires_grad = True)\n",
    "# this \"requires_grad = True\" means\n",
    "# \"whenever this object appears in expressions, track how it is used,\n",
    "# so we can compute gradients later\""
   ]
  },
  {
   "cell_type": "code",
   "execution_count": 25,
   "id": "nervous-palestinian",
   "metadata": {},
   "outputs": [
    {
     "name": "stdout",
     "output_type": "stream",
     "text": [
      "False\n",
      "True\n",
      "False\n"
     ]
    }
   ],
   "source": [
    "# Can directly modify requires_grad\n",
    "q = torch.randn(5,5)\n",
    "print(q.requires_grad)\n",
    "q.requires_grad = True\n",
    "print(q.requires_grad)\n",
    "q.requires_grad_(False)\n",
    "print(q.requires_grad)"
   ]
  },
  {
   "cell_type": "code",
   "execution_count": 26,
   "id": "equal-girlfriend",
   "metadata": {},
   "outputs": [
    {
     "name": "stdout",
     "output_type": "stream",
     "text": [
      "tensor([-3.1597, -0.1324, -2.6432, -0.4946,  0.1561], grad_fn=<MvBackward>)\n",
      "tensor([ 1.1368,  0.4844,  2.7441, -2.1615,  2.5783])\n"
     ]
    }
   ],
   "source": [
    "print(torch.randn(5,5) @ torch.randn(5, requires_grad = True))\n",
    "print(torch.randn(5,5) @ torch.randn(5))"
   ]
  },
  {
   "cell_type": "code",
   "execution_count": 27,
   "id": "annual-intake",
   "metadata": {},
   "outputs": [
    {
     "name": "stdout",
     "output_type": "stream",
     "text": [
      "iter 0 risk 12.4 12.4 12.4\n",
      "iter 1 risk 9.25 9.25 9.25\n",
      "iter 2 risk 6.93 6.93 6.93\n",
      "iter 3 risk 5.21 5.21 5.21\n",
      "iter 4 risk 3.93 3.93 3.93\n",
      "iter 5 risk 2.98 2.98 2.98\n",
      "iter 6 risk 2.26 2.26 2.26\n",
      "iter 7 risk 1.73 1.73 1.73\n",
      "iter 8 risk 1.32 1.32 1.32\n",
      "iter 9 risk 1.02 1.02 1.02\n",
      "iter 10 risk 0.785 0.785 0.785\n",
      "iter 11 risk 0.608 0.608 0.608\n",
      "iter 12 risk 0.472 0.472 0.472\n",
      "iter 13 risk 0.368 0.368 0.368\n",
      "iter 14 risk 0.288 0.288 0.288\n",
      "iter 15 risk 0.226 0.226 0.226\n",
      "iter 16 risk 0.177 0.177 0.177\n",
      "iter 17 risk 0.14 0.14 0.14\n",
      "iter 18 risk 0.111 0.111 0.111\n",
      "iter 19 risk 0.0875 0.0875 0.0875\n"
     ]
    },
    {
     "data": {
      "image/png": "[encoded data removed]",
      "text/plain": [
       "<Figure size 432x288 with 1 Axes>"
      ]
     },
     "metadata": {
      "needs_background": "light"
     },
     "output_type": "display_data"
    }
   ],
   "source": [
    "# now let's do some iterations of gradient descent on w and v\n",
    "stepsize = 0.1 # a small one to help visualize\n",
    "# we'll use pytorch's sgd for z:\n",
    "z_optimizer = torch.optim.SGD([z], lr = stepsize)\n",
    "n_iters = 20\n",
    "V = torch.empty(n_iters, 2)\n",
    "W = torch.empty(n_iters, 2)\n",
    "Z = torch.empty(n_iters, 2)\n",
    "for i in range(n_iters):\n",
    "    # let's save all iterates to plot them later\n",
    "    V[i, :] = v\n",
    "    # for w and z, if we copy them in like v, then\n",
    "    # W also gets requires_grad enabled.\n",
    "    # We can use .detach() to disconnect from the computation graph\n",
    "    W[i, :] = w.detach()\n",
    "    Z[i, :] = z.detach()\n",
    "\n",
    "    # manual gradient computation on v:\n",
    "    v_risk = ((X @ v - y) ** 2 / 2).mean()\n",
    "    # take a gradient step:\n",
    "    v -= stepsize * X.T @ (X @ v - y) / X.shape[0]\n",
    "    \n",
    "    # automatic gradient computation on w:\n",
    "    w_risk = ((X @ w - y) ** 2 / 2).mean()\n",
    "    # following line means\n",
    "    # \"go through the computation of 'w_risk',\n",
    "    # and save gradient information for \n",
    "    # tensors with all requires_grad=True\"\n",
    "    w_risk.backward()\n",
    "    # we still need _use_ the saved gradient information\n",
    "    \n",
    "\n",
    "    with torch.no_grad():\n",
    "        # we will do that inside a torch.no_grad() block.\n",
    "        # this  means \"here we do not track gradient computations\".\n",
    "        # this particular gradient computation blows up in various\n",
    "        # ways without the block.\n",
    "        # for v we were fine, there are no requires_grad variables.\n",
    "        w -= stepsize * w.grad\n",
    "        # w.grad is where gradient information was stored.\n",
    "        # we must explicitly clear it, or else it will be combined\n",
    "        # with future iteration gradient information\n",
    "        w.grad.zero_()\n",
    "        # the .zero_() means \"zero this out in place\".\n",
    "        \n",
    "    # now let's do z\n",
    "    z_optimizer.zero_grad() # the optimizer handles this now\n",
    "    # rest is familiar from w:\n",
    "    z_risk = ((X @ z - y) ** 2 / 2).mean()\n",
    "    z_risk.backward()\n",
    "    # now do the update.  torch.no_grad() is unnecessary\n",
    "    # because .step() invokes it internally.\n",
    "    z_optimizer.step() # thanks, pytorch\n",
    "    \n",
    "    # lastly let's print the empirical risk of all\n",
    "    with torch.no_grad():\n",
    "        print(f\"iter {i}\"\n",
    "              f\" risk {v_risk:.3g} {w_risk:.3g} {z_risk:.3g}\")\n",
    "\n",
    "with plt.style.context(\"bmh\"):\n",
    "    plt.scatter(\n",
    "        X[:, 0],\n",
    "        X[:, 1],\n",
    "        # color according to y:\n",
    "        c = (y - y.min()) / (y.max() - y.min()),\n",
    "        cmap = \"copper\",\n",
    "    )\n",
    "    plt.plot([0, u[0]], [0, u[1]], lw = 25, label = \"true solution\")\n",
    "    plt.plot(V[:, 0], V[:, 1],\n",
    "             lw = 15, color = 'black',\n",
    "             label = \"manual GD\")\n",
    "    plt.plot(W[:, 0], W[:, 1],\n",
    "             lw = 10, color = 'white',\n",
    "             label = \"auto GD\")\n",
    "    plt.plot(Z[:, 0], Z[:, 1],\n",
    "             lw = 5, color = 'black',\n",
    "             label = \"torch.optim.SGD\")\n",
    "    plt.legend()    "
   ]
  },
  {
   "cell_type": "code",
   "execution_count": 28,
   "id": "severe-mixer",
   "metadata": {},
   "outputs": [
    {
     "data": {
      "text/plain": [
       "tensor(0.0875, grad_fn=<MeanBackward0>)"
      ]
     },
     "execution_count": 28,
     "metadata": {},
     "output_type": "execute_result"
    }
   ],
   "source": [
    "# Let's take a moment to study the last w_risk\n",
    "w_risk"
   ]
  },
  {
   "cell_type": "code",
   "execution_count": 30,
   "id": "521c2056",
   "metadata": {},
   "outputs": [
    {
     "data": {
      "text/plain": [
       "tensor([[ 0.0000,  0.0000],\n",
       "        [-0.4129, -0.4093],\n",
       "        [-0.7771, -0.7513],\n",
       "        [-1.0985, -1.0368],\n",
       "        [-1.3824, -1.2748],\n",
       "        [-1.6334, -1.4731],\n",
       "        [-1.8554, -1.6381],\n",
       "        [-2.0520, -1.7752],\n",
       "        [-2.2261, -1.8889],\n",
       "        [-2.3805, -1.9832],\n",
       "        [-2.5175, -2.0611],\n",
       "        [-2.6390, -2.1254],\n",
       "        [-2.7470, -2.1783],\n",
       "        [-2.8430, -2.2219],\n",
       "        [-2.9283, -2.2575],\n",
       "        [-3.0042, -2.2866],\n",
       "        [-3.0718, -2.3103],\n",
       "        [-3.1320, -2.3295],\n",
       "        [-3.1856, -2.3450],\n",
       "        [-3.2334, -2.3574]])"
      ]
     },
     "execution_count": 30,
     "metadata": {},
     "output_type": "execute_result"
    }
   ],
   "source": [
    "W"
   ]
  },
  {
   "cell_type": "code",
   "execution_count": 29,
   "id": "particular-initial",
   "metadata": {},
   "outputs": [
    {
     "data": {
      "text/plain": [
       "tensor(0.0875)"
      ]
     },
     "execution_count": 29,
     "metadata": {},
     "output_type": "execute_result"
    }
   ],
   "source": [
    "# the \"grad_fn\" is also part of the computation tracking.\n",
    "# if we use .detach() here, similarly it clears this.\n",
    "w_risk.detach()"
   ]
  },
  {
   "cell_type": "code",
   "execution_count": 30,
   "id": "attractive-collaboration",
   "metadata": {},
   "outputs": [
    {
     "data": {
      "text/plain": [
       "tensor(0.2377)"
      ]
     },
     "execution_count": 30,
     "metadata": {},
     "output_type": "execute_result"
    }
   ],
   "source": [
    "# .detach() often comes up in documentation together with .clone();\n",
    "# this is the recommended safe way to duplicate a tensor.\n",
    "w_risk.detach().clone()"
   ]
  },
  {
   "cell_type": "code",
   "execution_count": 31,
   "id": "numeric-arcade",
   "metadata": {},
   "outputs": [
    {
     "name": "stdout",
     "output_type": "stream",
     "text": [
      "False True\n"
     ]
    }
   ],
   "source": [
    "# here's an example of what goes wrong within torch.no_grad.\n",
    "w2 = torch.randn(2, requires_grad = True)\n",
    "risk = ((X @ w2 - y) ** 2 / 2).mean()\n",
    "risk.backward()\n",
    "with torch.no_grad():\n",
    "    # WRONG WAY: assign to a temporary variable\n",
    "    w3 = w - stepsize * w.grad\n",
    "    # RIGHT WAY: in place operations.\n",
    "    w2 -= stepsize * w2.grad\n",
    "    # same goes with other operations like torch.clamp(), etc.\n",
    "    # notice that one of the following changes\n",
    "    print(w3.requires_grad, w2.requires_grad)"
   ]
  },
  {
   "cell_type": "code",
   "execution_count": 31,
   "id": "derived-sewing",
   "metadata": {},
   "outputs": [
    {
     "name": "stdout",
     "output_type": "stream",
     "text": [
      "tensor(0.)\n"
     ]
    }
   ],
   "source": [
    "# note that \"autodifferentiation\" doesn't require differentiability.\n",
    "w = torch.zeros((), requires_grad = True) # scalar zero\n",
    "nondiff = torch.nn.functional.relu(w)\n",
    "nondiff.backward()\n",
    "# relu is not differentiable at zero...\n",
    "print(w.grad)\n",
    "# relu has clarke differential (and subdifferential) of [0,1] at 1.\n",
    "# so anything within [0,1] seems reasonable."
   ]
  },
  {
   "cell_type": "code",
   "execution_count": 32,
   "id": "magnetic-chaos",
   "metadata": {},
   "outputs": [
    {
     "name": "stdout",
     "output_type": "stream",
     "text": [
      "tensor(0.)\n"
     ]
    }
   ],
   "source": [
    "# good job, pytorch, how about this one.\n",
    "w.grad.zero_() # first zero out old gradient\n",
    "relu = torch.nn.functional.relu # shorthand\n",
    "tricky = relu(w) - relu(-w) # identity map\n",
    "tricky.backward()\n",
    "print(w.grad) # 1 is the only correct value"
   ]
  },
  {
   "cell_type": "markdown",
   "id": "mounted-island",
   "metadata": {},
   "source": [
    "# single-layer networks"
   ]
  },
  {
   "cell_type": "code",
   "execution_count": 33,
   "id": "listed-angle",
   "metadata": {},
   "outputs": [
    {
     "name": "stdout",
     "output_type": "stream",
     "text": [
      "tensor(0.8147, grad_fn=<CopyBackwards>)\n"
     ]
    }
   ],
   "source": [
    "# a basic fully connected layer; randomly initialized\n",
    "fc1 = torch.nn.Linear(5,4, bias = True)\n",
    "# another one, different random init:\n",
    "fc2 = torch.nn.Linear(5,4, bias = True)\n",
    "\n",
    "# let's apply these layers to some data\n",
    "x = torch.randn(5)\n",
    "# you can call them like functions.  result nonzero due to random init.\n",
    "print((fc1(x) - fc2(x)).norm())"
   ]
  },
  {
   "cell_type": "code",
   "execution_count": 35,
   "id": "primary-recommendation",
   "metadata": {},
   "outputs": [
    {
     "name": "stdout",
     "output_type": "stream",
     "text": [
      "True\n",
      "tensor(0., grad_fn=<CopyBackwards>)\n",
      "Linear(in_features=5, out_features=4, bias=True)\n"
     ]
    }
   ],
   "source": [
    "# A layer is itself a subclass of the general torch network class\n",
    "print(isinstance(fc1, torch.nn.Module))\n",
    "# this class contains main convenient operations.\n",
    "# here are two ways to apply them to data:\n",
    "print((fc1(x) - fc1.forward(x)).norm())\n",
    "# note that .forward()'s name matches with .backward(),\n",
    "# corresponding to backpropagation.\n",
    "# here we see we can print networks, useful for debugging:\n",
    "print(fc1)"
   ]
  },
  {
   "cell_type": "code",
   "execution_count": 36,
   "id": "sorted-horizontal",
   "metadata": {},
   "outputs": [
    {
     "name": "stdout",
     "output_type": "stream",
     "text": [
      "torch.Size([4, 5])\n",
      "torch.Size([4])\n"
     ]
    }
   ],
   "source": [
    "# torch.nn.Module instances can iterate over parameters.\n",
    "# most often we use this to define gradient descent\n",
    "for P in fc1.parameters():\n",
    "    print(P.shape)"
   ]
  },
  {
   "cell_type": "code",
   "execution_count": 37,
   "id": "specialized-motorcycle",
   "metadata": {},
   "outputs": [
    {
     "name": "stdout",
     "output_type": "stream",
     "text": [
      "torch.Size([4, 5])\n"
     ]
    }
   ],
   "source": [
    "# what about with no bias?\n",
    "for P in torch.nn.Linear(5,4, bias = False).parameters():\n",
    "    print(P.shape)"
   ]
  },
  {
   "cell_type": "code",
   "execution_count": 38,
   "id": "basic-thought",
   "metadata": {},
   "outputs": [],
   "source": [
    "# this zeros out gradients.\n",
    "fc1.zero_grad()\n",
    "# it is like accessing the weights (and biases!) within fc1\n",
    "# and calling .zero_()."
   ]
  },
  {
   "cell_type": "code",
   "execution_count": 39,
   "id": "detected-medium",
   "metadata": {},
   "outputs": [
    {
     "name": "stdout",
     "output_type": "stream",
     "text": [
      "torch.Size([1])\n",
      "torch.Size([10, 1])\n",
      "torch.Size([5, 1])\n"
     ]
    }
   ],
   "source": [
    "fc = torch.nn.Linear(5, 1)\n",
    "# torch networks can take minibatches directly as input;\n",
    "# now the inputs are written as rows.\n",
    "X = torch.randn(10, 5)\n",
    "print(fc(X[0, :]).shape) # column vector in, singleton vector out\n",
    "print(fc(X).shape) # matrix in, _matrix_ out\n",
    "print(fc(X[:5, :]).shape) # now with a minibatch"
   ]
  },
  {
   "cell_type": "code",
   "execution_count": 40,
   "id": "brief-shipping",
   "metadata": {},
   "outputs": [
    {
     "name": "stdout",
     "output_type": "stream",
     "text": [
      "shuffle False 0 0\n",
      "shuffle False 1 1\n",
      "shuffle False 2 2\n",
      "shuffle False 3 3\n",
      "shuffle False 4 4\n",
      "shuffle False 5 5\n",
      "shuffle False 6 6\n",
      "shuffle False 7 7\n",
      "shuffle True 0 0.25\n",
      "shuffle True 1 0\n",
      "shuffle True 2 0.188\n",
      "shuffle True 3 0.0625\n",
      "shuffle True 4 0.0938\n",
      "shuffle True 5 0.406\n",
      "shuffle True 6 0.438\n",
      "shuffle True 7 0.125\n"
     ]
    }
   ],
   "source": [
    "# Typically pytorch code does not directly extra minibatches from\n",
    "# a big data tensor, but uses wrappers from torch.utils.data\n",
    "nb = 32\n",
    "n = 256\n",
    "# following wraps inputs and outputs into single object\n",
    "data = torch.utils.data.TensorDataset(\n",
    "    torch.arange(n).type(torch.float32), # our fake input data\n",
    "    # using sequential data to tell apart shuffle and not\n",
    "    torch.randint(0, 10, (n,)) # our labels\n",
    ")\n",
    "for shuffle in [ False, True ]:\n",
    "    # DataLoader handles minibatching\n",
    "    loader = torch.utils.data.DataLoader(data, batch_size = nb,\n",
    "                    shuffle = shuffle, num_workers = 1)\n",
    "    # loader exposes an iterable interface:\n",
    "    for (i, (Xb, yb)) in enumerate(loader):\n",
    "        print(f\"shuffle {shuffle} {i} {Xb.min() / nb:.3g}\")"
   ]
  },
  {
   "cell_type": "code",
   "execution_count": 41,
   "id": "vertical-pearl",
   "metadata": {},
   "outputs": [
    {
     "name": "stdout",
     "output_type": "stream",
     "text": [
      "torch.Size([10, 10])\n",
      "torch.Size([10])\n"
     ]
    }
   ],
   "source": [
    "# here's a gotcha!\n",
    "# for linear logistic regression, we did y * (X @ w).  now:\n",
    "y = torch.randn(X.shape[0])\n",
    "print((y * fc(X)).shape) # OOPS\n",
    "print((y * fc(X).view(-1)).shape) # correct..."
   ]
  },
  {
   "cell_type": "code",
   "execution_count": 42,
   "id": "advised-pasta",
   "metadata": {},
   "outputs": [
    {
     "data": {
      "text/plain": [
       "Linear(in_features=5, out_features=1, bias=True)"
      ]
     },
     "execution_count": 42,
     "metadata": {},
     "output_type": "execute_result"
    }
   ],
   "source": [
    "# We can also move entire networks to gpu with one function call\n",
    "# (in this case, it moves the weights and the biases).\n",
    "fc.to(device)"
   ]
  },
  {
   "cell_type": "code",
   "execution_count": 43,
   "id": "coordinate-lender",
   "metadata": {},
   "outputs": [
    {
     "name": "stdout",
     "output_type": "stream",
     "text": [
      "torch.Size([1, 4, 5, 5])\n",
      "torch.Size([10, 4, 5, 5])\n",
      "Got exception: 'Expected 4-dimensional input for 4-dimensional weight [4, 5, 2, 2], but got 3-dimensional input of size [5, 6, 6] instead'\n",
      "torch.Size([10, 4, 9, 9])\n"
     ]
    }
   ],
   "source": [
    "# We can also create convolutional layers easily\n",
    "conv = torch.nn.Conv2d(5, 4, 2)\n",
    "# example random data with 10 6x6 images using 5 channels:\n",
    "X = torch.randn(10, 5, 6, 6)\n",
    "print(conv(X[:1, ...]).shape) #output on first example\n",
    "print(conv(X).shape) #output on whole batch\n",
    "try:\n",
    "    # unfortunately, unlike for linear layers,\n",
    "    # we _must_ use inputs with 4 axes of input\n",
    "    print(conv(X[0, ...]).shape)\n",
    "except Exception as E:\n",
    "    print(f\"Got exception: '{E}'\")\n",
    "# just a sanity check:\n",
    "# indeed convolutional layers, unlike linear layers,\n",
    "# can handle different choices of input width x height\n",
    "print(conv(torch.randn(10, 5, 10, 10)).shape)"
   ]
  },
  {
   "cell_type": "code",
   "execution_count": 44,
   "id": "egyptian-copper",
   "metadata": {},
   "outputs": [
    {
     "name": "stdout",
     "output_type": "stream",
     "text": [
      "torch.Size([4, 5, 2, 2])\n",
      "torch.Size([4])\n"
     ]
    }
   ],
   "source": [
    "# convolutional layers also have biases on by default!\n",
    "for P in conv.parameters():\n",
    "    print(P.shape)"
   ]
  },
  {
   "cell_type": "code",
   "execution_count": 45,
   "id": "streaming-firewall",
   "metadata": {},
   "outputs": [
    {
     "name": "stdout",
     "output_type": "stream",
     "text": [
      "ReLU()\n",
      "0\n",
      "tensor([0., 0., 0., 0., 1., 2., 3.])\n",
      "tensor([0., 0., 0., 0., 1., 2., 3.])\n",
      "tensor([0., 0., 0., 0., 1., 2., 3.])\n"
     ]
    }
   ],
   "source": [
    "# activations also subclass torch.nn.Module\n",
    "relu = torch.nn.ReLU()\n",
    "print(relu)\n",
    "print(len(list(relu.parameters())))\n",
    "v = torch.linspace(-3, 3, 7)\n",
    "print(relu(v))\n",
    "# many layer types can also be invoked \"functionally\",\n",
    "# without creating a layer object.\n",
    "print(torch.nn.functional.relu(v))\n",
    "# we can also call relu directly on tensors.\n",
    "print(v.relu())"
   ]
  },
  {
   "cell_type": "code",
   "execution_count": 46,
   "id": "radio-folks",
   "metadata": {},
   "outputs": [
    {
     "name": "stdout",
     "output_type": "stream",
     "text": [
      "tensor([0.2931, 0.2581, 0.2208, 0.2280])\n",
      "tensor([0.2931, 0.2581, 0.2208, 0.2280])\n",
      "tensor([0.2931, 0.2581, 0.2208, 0.2280])\n",
      "tensor([0.2931, 0.2581, 0.2208, 0.2280])\n"
     ]
    }
   ],
   "source": [
    "# We also have softmax layers...\n",
    "v = torch.randn(4)\n",
    "softmax = torch.nn.Softmax(dim = 0)\n",
    "print(softmax(v))\n",
    "print(torch.nn.functional.softmax(v, dim = 0))\n",
    "print(v.softmax(dim = 0))\n",
    "# let's sanity check \n",
    "print(v.exp() / v.exp().sum())"
   ]
  },
  {
   "cell_type": "code",
   "execution_count": 47,
   "id": "sufficient-caution",
   "metadata": {},
   "outputs": [
    {
     "name": "stdout",
     "output_type": "stream",
     "text": [
      "tensor(1.3544)\n",
      "tensor(1.3544)\n"
     ]
    }
   ],
   "source": [
    "# Let's further sanity check softmax with cross entropy\n",
    "yhat = v.view(1, -1)\n",
    "y = torch.ones(1,).type(torch.long)\n",
    "print(torch.nn.functional.cross_entropy(yhat, y))\n",
    "# It also exists as a layer!\n",
    "risk = torch.nn.CrossEntropyLoss()\n",
    "assert(len(list(risk.parameters())) == 0)\n",
    "print(risk(yhat, y))\n",
    "# variable name \"risk\" because averages batches:\n",
    "yhat = torch.randn(10, 5)\n",
    "y = torch.randint(0, yhat.shape[1], (yhat.shape[0],))\n",
    "risk1 = risk(yhat, y)\n",
    "assert(len(risk1.shape) == 0)\n",
    "# lastly let's check the computation manually.\n",
    "# pytorch has .logsumexp() for numerical reasons;\n",
    "# following slicing has a tiny gotcha, can't use : in place of range.\n",
    "risk2 = (- yhat[torch.arange(10), y] + yhat.logsumexp(dim = 1)).mean()\n",
    "# another way\n",
    "risk3 = -yhat.softmax(dim = 1)[torch.arange(10), y].log().mean()\n",
    "assert((risk2 - risk1).abs().item() < 1e-6 and\n",
    "      (risk3 - risk2).abs().item() < 1e-6)"
   ]
  },
  {
   "cell_type": "code",
   "execution_count": 48,
   "id": "bibliographic-median",
   "metadata": {},
   "outputs": [
    {
     "data": {
      "text/plain": [
       "<matplotlib.legend.Legend at 0x7f59f3914d00>"
      ]
     },
     "execution_count": 48,
     "metadata": {},
     "output_type": "execute_result"
    },
    {
     "data": {
      "image/png": "[encoded data removed]",
      "text/plain": [
       "<Figure size 432x288 with 1 Axes>"
      ]
     },
     "metadata": {
      "needs_background": "light"
     },
     "output_type": "display_data"
    }
   ],
   "source": [
    "# Lastly, let's study batch norm a little bit.\n",
    "# Let's play with the .train() and eval() routines,\n",
    "# and also see if we can observe the normalization.\n",
    "d = 2\n",
    "bn = torch.nn.BatchNorm1d(d)\n",
    "bn.eval() # disable tracking of statistics\n",
    "# Gaussian data, axis aligned, different variances.\n",
    "X = torch.randn(1024, d) @ torch.tensor([[4.0, 0,], [0, 2]])\n",
    "n_iters = 1024\n",
    "stddevs = torch.empty(n_iters, d)\n",
    "import random\n",
    "for iters in range(n_iters):\n",
    "    x_mb = X[random.sample(range(X.shape[0]), 16), :]\n",
    "    out = bn(x_mb)\n",
    "    with torch.no_grad():\n",
    "        if iters == n_iters // 3:\n",
    "            bn.train()\n",
    "        elif iters == 2 * n_iters // 3:\n",
    "            bn.eval()\n",
    "        stddevs[iters, :] = out.std(dim = 0)\n",
    "with plt.style.context('bmh'):\n",
    "    for j in range(d):\n",
    "        plt.plot(range(n_iters), stddevs[:, j],\n",
    "                 label = f\"coordinate {j}\")\n",
    "plt.legend()"
   ]
  },
  {
   "cell_type": "code",
   "execution_count": 49,
   "id": "daily-nirvana",
   "metadata": {},
   "outputs": [
    {
     "name": "stdout",
     "output_type": "stream",
     "text": [
      "tensor([1., 1.])\n",
      "tensor([0., 0.])\n"
     ]
    }
   ],
   "source": [
    "# note that batch norm has those \"affine\" parameters by default.\n",
    "# we did not do any updates do them, so they're still default.\n",
    "for P in bn.parameters():\n",
    "    print(P.data)"
   ]
  },
  {
   "cell_type": "markdown",
   "id": "emotional-confidentiality",
   "metadata": {},
   "source": [
    "# multi-layer networks"
   ]
  },
  {
   "cell_type": "code",
   "execution_count": 50,
   "id": "preliminary-final",
   "metadata": {},
   "outputs": [
    {
     "data": {
      "text/plain": [
       "tensor([-0.8076], grad_fn=<AddBackward0>)"
      ]
     },
     "execution_count": 50,
     "metadata": {},
     "output_type": "execute_result"
    }
   ],
   "source": [
    "# now let's work with multi-layer networks.\n",
    "# for networks that just stack standard types of layers,\n",
    "# here is an easy way:\n",
    "net = torch.nn.Sequential(\n",
    "    torch.nn.Linear(5,100),\n",
    "    torch.nn.ReLU(), \n",
    "    torch.nn.Linear(100,1)\n",
    ")\n",
    "# note that \"number layers\" is already ambiguous and inconsistent\n",
    "# across neural net conventions...\n",
    "\n",
    "# we still have .forward(), function call, .zero_grad(), \n",
    "net(x)"
   ]
  },
  {
   "cell_type": "code",
   "execution_count": 51,
   "id": "aerial-perry",
   "metadata": {},
   "outputs": [
    {
     "name": "stdout",
     "output_type": "stream",
     "text": [
      "Sequential(\n",
      "  (0): Linear(in_features=5, out_features=100, bias=True)\n",
      "  (1): ReLU()\n",
      "  (2): Linear(in_features=100, out_features=1, bias=True)\n",
      ")\n"
     ]
    }
   ],
   "source": [
    "print(net) # compare this with printing just torch.nn.Linear"
   ]
  },
  {
   "cell_type": "code",
   "execution_count": 52,
   "id": "typical-brush",
   "metadata": {},
   "outputs": [
    {
     "name": "stdout",
     "output_type": "stream",
     "text": [
      "0.weight torch.Size([100, 5])\n",
      "0.bias torch.Size([100])\n",
      "2.weight torch.Size([1, 100])\n",
      "2.bias torch.Size([1])\n"
     ]
    }
   ],
   "source": [
    "# since now we have multiple layers,\n",
    "# .parameters() may be confusing for debugging purposes\n",
    "# since each layer can have multiple parameters (e.g., due to bias).\n",
    "# instead, we can use .named_parameters().\n",
    "# here we can see the default names:\n",
    "for (Pname, P) in net.named_parameters():\n",
    "    print(Pname, P.shape)"
   ]
  },
  {
   "cell_type": "code",
   "execution_count": 53,
   "id": "structured-fighter",
   "metadata": {},
   "outputs": [
    {
     "data": {
      "text/plain": [
       "torch.Size([50, 1])"
      ]
     },
     "execution_count": 53,
     "metadata": {},
     "output_type": "execute_result"
    }
   ],
   "source": [
    "# also convenient to define networks as classes.\n",
    "class SquaredReLUNet(torch.nn.Module):\n",
    "    def __init__(self, d, width):\n",
    "        super(SquaredReLUNet, self).__init__() # boilerplate\n",
    "        self.d = d\n",
    "        self.width = width\n",
    "        self.fc1 = torch.nn.Linear(d, width, bias = False)\n",
    "        self.relu = torch.nn.ReLU()\n",
    "        self.fc2 = torch.nn.Linear(width, 1, bias = False)\n",
    "        # torch.nn.Module \"sees\" fc1 and fc2 and they are\n",
    "        # accessed by operations like zero_grad(), parameters(), etc.\n",
    "        # for more exotic architectures, you need to\n",
    "        # manually register with self.add_module().\n",
    "        \n",
    "    def forward(self, x):\n",
    "        x = self.fc1(x)\n",
    "        # squared ReLU; more convenient than with torch.nn.Sequential\n",
    "        x = self.relu(x) ** 2\n",
    "        return self.fc2(x)\n",
    "    \n",
    "net = SquaredReLUNet(5, 128)\n",
    "net(torch.randn(50, 5)).shape"
   ]
  },
  {
   "cell_type": "code",
   "execution_count": 54,
   "id": "complex-triumph",
   "metadata": {
    "scrolled": true
   },
   "outputs": [
    {
     "name": "stdout",
     "output_type": "stream",
     "text": [
      "0 torch.Size([128, 5]) torch.Size([128, 5])\n",
      "1 torch.Size([1, 128]) torch.Size([1, 128])\n",
      "risk should decrease: init 0.53, one iter 0.525\n"
     ]
    }
   ],
   "source": [
    "net.zero_grad() # let's clear all gradient information.\n",
    "(X, y) = (torch.randn(50, 5), torch.randn(50))\n",
    "risk = ((net(X).view(-1) - y) ** 2).mean() / 2 # note \".view(-1)\"\n",
    "risk.backward()\n",
    "with torch.no_grad():\n",
    "     # they all get magically registered in the __init__\n",
    "    for (Pi, P) in enumerate(net.parameters()):\n",
    "        print(Pi, P.shape, P.grad.shape)\n",
    "        P -= 0.01 * P.grad # in place operations !\n",
    "    \n",
    "    # it is possible that it doesn't decrease,\n",
    "    # since the step size is fixed but the random data could be wild...\n",
    "    print(f\"risk should decrease: init {risk:.3g}, \"\n",
    "           f\"one iter {(((net(X).view(-1) - y) ** 2).mean() / 2):.3g}\")"
   ]
  }
 ],
 "metadata": {
  "kernelspec": {
   "display_name": "ml",
   "language": "python",
   "name": "ml"
  },
  "language_info": {
   "codemirror_mode": {
    "name": "ipython",
    "version": 3
   },
   "file_extension": ".py",
   "mimetype": "text/x-python",
   "name": "python",
   "nbconvert_exporter": "python",
   "pygments_lexer": "ipython3",
   "version": "3.9.6"
  }
 },
 "nbformat": 4,
 "nbformat_minor": 5
}
