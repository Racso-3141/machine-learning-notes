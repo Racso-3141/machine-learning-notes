{
 "cells": [
  {
   "cell_type": "code",
   "execution_count": 14,
   "id": "246e8916",
   "metadata": {},
   "outputs": [],
   "source": [
    "import numpy as np\n",
    "# build data\n",
    "x_train = np.arange(0, 11, dtype=np.float32)\n",
    "x_train = x_train.reshape(-1, 1)\n",
    "\n",
    "y_train = np.arange(0, 11, dtype=np.float32) * 2 + 1\n",
    "y_train = y_train.reshape(-1, 1)"
   ]
  },
  {
   "cell_type": "code",
   "execution_count": 17,
   "id": "ace0ad2f",
   "metadata": {},
   "outputs": [],
   "source": [
    "# build model\n",
    "import torch\n",
    "import torch.nn as nn\n",
    "\n",
    "# Create class\n",
    "class LinearRegressionModel(nn.Module):\n",
    "    def __init__(self, input_dim, output_dim):\n",
    "        super(LinearRegressionModel, self).__init__()\n",
    "        self.linear = nn.Linear(input_dim, output_dim)  \n",
    "\n",
    "    def forward(self, x):\n",
    "        out = self.linear(x)\n",
    "        return out\n",
    "    \n",
    "input_dim = 1\n",
    "output_dim = 1\n",
    "\n",
    "model = LinearRegressionModel(input_dim, output_dim)"
   ]
  },
  {
   "cell_type": "code",
   "execution_count": 18,
   "id": "cd70c7b4",
   "metadata": {},
   "outputs": [],
   "source": [
    "# initialize loss\n",
    "criterion = nn.MSELoss()"
   ]
  },
  {
   "cell_type": "code",
   "execution_count": 19,
   "id": "63620dcf",
   "metadata": {},
   "outputs": [],
   "source": [
    "# learning rate\n",
    "learning_rate = 0.01"
   ]
  },
  {
   "cell_type": "code",
   "execution_count": 20,
   "id": "432ba727",
   "metadata": {},
   "outputs": [],
   "source": [
    "# optimizer\n",
    "optimizer = torch.optim.SGD(model.parameters(), lr=learning_rate)"
   ]
  },
  {
   "cell_type": "code",
   "execution_count": 21,
   "id": "5129d0ef",
   "metadata": {
    "scrolled": true
   },
   "outputs": [
    {
     "name": "stdout",
     "output_type": "stream",
     "text": [
      "epoch 1, loss 102.35343933105469\n",
      "epoch 2, loss 8.871286392211914\n",
      "epoch 3, loss 1.2404026985168457\n",
      "epoch 4, loss 0.6122038960456848\n",
      "epoch 5, loss 0.5552573204040527\n",
      "epoch 6, loss 0.5449696183204651\n",
      "epoch 7, loss 0.538550853729248\n",
      "epoch 8, loss 0.5325095653533936\n",
      "epoch 9, loss 0.5265610218048096\n",
      "epoch 10, loss 0.5206807255744934\n",
      "epoch 11, loss 0.5148667097091675\n",
      "epoch 12, loss 0.5091168880462646\n",
      "epoch 13, loss 0.503432035446167\n",
      "epoch 14, loss 0.4978100657463074\n",
      "epoch 15, loss 0.49225127696990967\n",
      "epoch 16, loss 0.486753910779953\n",
      "epoch 17, loss 0.481318861246109\n",
      "epoch 18, loss 0.4759436547756195\n",
      "epoch 19, loss 0.47062891721725464\n",
      "epoch 20, loss 0.4653736352920532\n",
      "epoch 21, loss 0.4601766765117645\n",
      "epoch 22, loss 0.45503807067871094\n",
      "epoch 23, loss 0.4499566853046417\n",
      "epoch 24, loss 0.4449320137500763\n",
      "epoch 25, loss 0.43996334075927734\n",
      "epoch 26, loss 0.43505075573921204\n",
      "epoch 27, loss 0.43019238114356995\n",
      "epoch 28, loss 0.425388902425766\n",
      "epoch 29, loss 0.42063820362091064\n",
      "epoch 30, loss 0.4159412086009979\n",
      "epoch 31, loss 0.4112967550754547\n",
      "epoch 32, loss 0.40670347213745117\n",
      "epoch 33, loss 0.4021616280078888\n",
      "epoch 34, loss 0.3976711332798004\n",
      "epoch 35, loss 0.3932304084300995\n",
      "epoch 36, loss 0.38883888721466064\n",
      "epoch 37, loss 0.3844972550868988\n",
      "epoch 38, loss 0.3802034556865692\n",
      "epoch 39, loss 0.37595775723457336\n",
      "epoch 40, loss 0.3717595040798187\n",
      "epoch 41, loss 0.367607980966568\n",
      "epoch 42, loss 0.36350324749946594\n",
      "epoch 43, loss 0.35944417119026184\n",
      "epoch 44, loss 0.35543006658554077\n",
      "epoch 45, loss 0.35146111249923706\n",
      "epoch 46, loss 0.3475360870361328\n",
      "epoch 47, loss 0.34365564584732056\n",
      "epoch 48, loss 0.3398178815841675\n",
      "epoch 49, loss 0.3360233008861542\n",
      "epoch 50, loss 0.3322708308696747\n",
      "epoch 51, loss 0.328560471534729\n",
      "epoch 52, loss 0.32489171624183655\n",
      "epoch 53, loss 0.3212636113166809\n",
      "epoch 54, loss 0.31767603754997253\n",
      "epoch 55, loss 0.3141283690929413\n",
      "epoch 56, loss 0.31062081456184387\n",
      "epoch 57, loss 0.3071520924568176\n",
      "epoch 58, loss 0.3037222623825073\n",
      "epoch 59, loss 0.30033034086227417\n",
      "epoch 60, loss 0.2969766855239868\n",
      "epoch 61, loss 0.29366064071655273\n",
      "epoch 62, loss 0.2903810441493988\n",
      "epoch 63, loss 0.28713876008987427\n",
      "epoch 64, loss 0.28393200039863586\n",
      "epoch 65, loss 0.2807614505290985\n",
      "epoch 66, loss 0.2776263952255249\n",
      "epoch 67, loss 0.27452582120895386\n",
      "epoch 68, loss 0.27146056294441223\n",
      "epoch 69, loss 0.2684291899204254\n",
      "epoch 70, loss 0.265431672334671\n",
      "epoch 71, loss 0.26246753334999084\n",
      "epoch 72, loss 0.2595367729663849\n",
      "epoch 73, loss 0.25663843750953674\n",
      "epoch 74, loss 0.25377267599105835\n",
      "epoch 75, loss 0.2509385943412781\n",
      "epoch 76, loss 0.2481364607810974\n",
      "epoch 77, loss 0.2453656792640686\n",
      "epoch 78, loss 0.24262572824954987\n",
      "epoch 79, loss 0.2399163395166397\n",
      "epoch 80, loss 0.23723740875720978\n",
      "epoch 81, loss 0.23458795249462128\n",
      "epoch 82, loss 0.2319684624671936\n",
      "epoch 83, loss 0.22937816381454468\n",
      "epoch 84, loss 0.22681666910648346\n",
      "epoch 85, loss 0.22428373992443085\n",
      "epoch 86, loss 0.22177936136722565\n",
      "epoch 87, loss 0.2193027138710022\n",
      "epoch 88, loss 0.21685372292995453\n",
      "epoch 89, loss 0.2144322544336319\n",
      "epoch 90, loss 0.21203765273094177\n",
      "epoch 91, loss 0.2096700817346573\n",
      "epoch 92, loss 0.20732857286930084\n",
      "epoch 93, loss 0.20501351356506348\n",
      "epoch 94, loss 0.202723890542984\n",
      "epoch 95, loss 0.20046000182628632\n",
      "epoch 96, loss 0.1982216238975525\n",
      "epoch 97, loss 0.19600819051265717\n",
      "epoch 98, loss 0.1938193440437317\n",
      "epoch 99, loss 0.19165506958961487\n",
      "epoch 100, loss 0.18951478600502014\n"
     ]
    }
   ],
   "source": [
    "# train\n",
    "epochs = 100\n",
    "for epoch in range(epochs):\n",
    "    epoch += 1\n",
    "    # Convert numpy array to torch Variable\n",
    "    inputs = torch.from_numpy(x_train).requires_grad_()\n",
    "    labels = torch.from_numpy(y_train)\n",
    "\n",
    "    # Clear gradients w.r.t. parameters\n",
    "    optimizer.zero_grad() \n",
    "\n",
    "    # Forward to get output\n",
    "    outputs = model(inputs)\n",
    "\n",
    "    # Calculate Loss\n",
    "    loss = criterion(outputs, labels)\n",
    "\n",
    "    # Getting gradients w.r.t. parameters\n",
    "    loss.backward()\n",
    "\n",
    "    # Updating parameters\n",
    "    optimizer.step()\n",
    "\n",
    "    print('epoch {}, loss {}'.format(epoch, loss.item()))"
   ]
  },
  {
   "cell_type": "code",
   "execution_count": 22,
   "id": "04d17afc",
   "metadata": {},
   "outputs": [
    {
     "data": {
      "text/plain": [
       "array([[ 0.19019236],\n",
       "       [ 2.306812  ],\n",
       "       [ 4.4234314 ],\n",
       "       [ 6.540051  ],\n",
       "       [ 8.656671  ],\n",
       "       [10.77329   ],\n",
       "       [12.88991   ],\n",
       "       [15.00653   ],\n",
       "       [17.12315   ],\n",
       "       [19.239769  ],\n",
       "       [21.356388  ]], dtype=float32)"
      ]
     },
     "execution_count": 22,
     "metadata": {},
     "output_type": "execute_result"
    }
   ],
   "source": [
    "predicted = model(torch.from_numpy(x_train).requires_grad_()).data.numpy()\n",
    "predicted"
   ]
  },
  {
   "cell_type": "code",
   "execution_count": 23,
   "id": "c1349e62",
   "metadata": {},
   "outputs": [
    {
     "data": {
      "image/png": "[encoded data removed]",
      "text/plain": [
       "<Figure size 432x288 with 1 Axes>"
      ]
     },
     "metadata": {
      "needs_background": "light"
     },
     "output_type": "display_data"
    }
   ],
   "source": [
    "# Clear figure\n",
    "plt.clf()\n",
    "\n",
    "# Get predictions\n",
    "predicted = model(torch.from_numpy(x_train).requires_grad_()).data.numpy()\n",
    "\n",
    "# Plot true data\n",
    "plt.plot(x_train, y_train, 'go', label='True data', alpha=0.5)\n",
    "\n",
    "# Plot predictions\n",
    "plt.plot(x_train, predicted, '--', label='Predictions', alpha=0.5)\n",
    "\n",
    "# Legend and plot\n",
    "plt.legend(loc='best')\n",
    "plt.show()\n"
   ]
  },
  {
   "cell_type": "code",
   "execution_count": null,
   "id": "b070976d",
   "metadata": {},
   "outputs": [],
   "source": []
  }
 ],
 "metadata": {
  "kernelspec": {
   "display_name": "ml",
   "language": "python",
   "name": "ml"
  },
  "language_info": {
   "codemirror_mode": {
    "name": "ipython",
    "version": 3
   },
   "file_extension": ".py",
   "mimetype": "text/x-python",
   "name": "python",
   "nbconvert_exporter": "python",
   "pygments_lexer": "ipython3",
   "version": "3.9.6"
  }
 },
 "nbformat": 4,
 "nbformat_minor": 5
}
